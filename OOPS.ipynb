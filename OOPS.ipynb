{
  "cells": [
    {
      "cell_type": "markdown",
      "id": "073d35e6-d894-4d9d-8a6a-7f9f979581de",
      "metadata": {
        "id": "073d35e6-d894-4d9d-8a6a-7f9f979581de"
      },
      "source": [
        "# Python OOPs: Assignment"
      ]
    },
    {
      "cell_type": "markdown",
      "id": "0e206b84-815a-4551-9df2-e2e0e83abefd",
      "metadata": {
        "id": "0e206b84-815a-4551-9df2-e2e0e83abefd"
      },
      "source": [
        "## Theoretical Questions\n",
        "\n",
        "1. **What is Object-Oriented Programming (OOP)?**\n",
        "   \n",
        "   **Answer:** Object-Oriented Programming (OOP) is a programming paradigm based on the concept of \"objects\", which are instances of classes. It focuses on grouping data and functions that operate on that data into objects, promoting modularity, reusability, and abstraction.\n",
        "\n",
        "2. **What is a class in OOP?**\n",
        "   \n",
        "   **Answer:** A class is a blueprint or template for creating objects. It defines attributes (data) and methods (functions) that represent the behavior of the objects created from the class.\n",
        "\n",
        "3. **What is an object in OOP?**\n",
        "   \n",
        "   **Answer:** An object is an instance of a class. It is a concrete entity that encapsulates data and behavior as defined by its class.\n",
        "\n",
        "4. **What is the difference between abstraction and encapsulation?**\n",
        "   \n",
        "   **Answer:** Abstraction is the process of hiding complex implementation details and showing only the essential features of an object. Encapsulation is the bundling of data and methods that operate on that data, restricting access to some of the object's components to protect the state of the object.\n",
        "\n",
        "5. **What are dunder methods in Python?**\n",
        "   \n",
        "   **Answer:** Dunder methods (short for \"double underscore\" methods) are special methods in Python that have names beginning and ending with double underscores (e.g., `__init__`, `__str__`, `__repr__`). They allow you to define behavior for built-in operations such as object creation, string representation, and operator overloading.\n",
        "\n",
        "6. **Explain the concept of inheritance in OOP.**\n",
        "   \n",
        "   **Answer:** Inheritance allows a class (called a derived or child class) to inherit attributes and methods from another class (called a base or parent class). This promotes code reusability and a hierarchical classification of classes.\n",
        "\n",
        "7. **What is polymorphism in OOP?**\n",
        "   \n",
        "   **Answer:** Polymorphism is the ability of different objects to respond to the same method call in different ways. It enables a unified interface to interact with objects of different types, typically through method overriding or operator overloading.\n",
        "\n",
        "8. **How is encapsulation achieved in Python?**\n",
        "   \n",
        "   **Answer:** Encapsulation in Python is achieved by bundling data and methods within a class and restricting access to certain components using private (e.g., `__balance`) or protected attributes (e.g., `_value`). This prevents unintended interference with the object's state.\n",
        "\n",
        "9. **What is a constructor in Python?**\n",
        "   \n",
        "   **Answer:** A constructor is a special method (`__init__`) that is automatically called when an object is created. It initializes the object's attributes and sets up its initial state.\n",
        "\n",
        "10. **What are class and static methods in Python?**\n",
        "    \n",
        "    **Answer:** Class methods are methods that take the class as the first argument (usually named `cls`) and can modify class state. They are defined using the `@classmethod` decorator. Static methods, defined with the `@staticmethod` decorator, do not take any implicit first argument and behave like regular functions that reside within a class.\n",
        "\n",
        "11. **What is method overloading in Python?**\n",
        "    \n",
        "    **Answer:** Python does not support traditional method overloading (i.e., having multiple methods with the same name but different parameters). Instead, you can use default parameters or variable-length arguments to achieve similar functionality.\n",
        "\n",
        "12. **What is method overriding in OOP?**\n",
        "    \n",
        "    **Answer:** Method overriding occurs when a subclass provides a specific implementation of a method that is already defined in its superclass. This allows the subclass to modify or extend the behavior of the superclass method.\n",
        "\n",
        "13. **What is a property decorator in Python?**\n",
        "    \n",
        "    **Answer:** The property decorator (`@property`) in Python allows you to define methods in a class that can be accessed like attributes. It is used to encapsulate instance attributes and to add validation logic without changing the public interface.\n",
        "\n",
        "14. **Why is polymorphism important in OOP?**\n",
        "    \n",
        "    **Answer:** Polymorphism allows objects of different classes to be treated as objects of a common superclass. It enhances code flexibility, extensibility, and maintainability by enabling a single interface to work with different underlying forms (data types).\n",
        "\n",
        "15. **What is an abstract class in Python?**\n",
        "    \n",
        "    **Answer:** An abstract class is a class that cannot be instantiated and typically contains one or more abstract methods. Abstract methods are defined using the `@abstractmethod` decorator from the `abc` module and must be implemented by any concrete subclass.\n",
        "\n",
        "16. **What are the advantages of OOP?**\n",
        "    \n",
        "    **Answer:** Advantages of OOP include modularity, reusability, scalability, easy maintenance, and improved code organization. It models real-world entities more effectively and supports concepts like inheritance and polymorphism for more flexible code design.\n",
        "\n",
        "17. **What is the difference between a class variable and an instance variable?**\n",
        "    \n",
        "    **Answer:** A class variable is shared by all instances of a class, while an instance variable is unique to each object. Class variables are defined within the class but outside any method, whereas instance variables are usually defined in the constructor (`__init__`).\n",
        "\n",
        "18. **What is multiple inheritance in Python?**\n",
        "    \n",
        "    **Answer:** Multiple inheritance is a feature where a class can inherit from more than one parent class. This allows the subclass to combine behaviors and attributes from all its parents, though it requires careful management of method resolution order (MRO) to avoid ambiguity.\n",
        "\n",
        "19. **Explain the purpose of `__str__` and `__repr__` methods in Python.**\n",
        "    \n",
        "    **Answer:** The `__str__` method is used to create a human-readable string representation of an object, while the `__repr__` method is intended to generate an “official” string representation that can be used to reproduce the object if possible. They help in debugging and logging.\n",
        "\n",
        "20. **What is the significance of the `super()` function in Python?**\n",
        "    \n",
        "    **Answer:** The `super()` function is used to call methods from a parent class. It is commonly used in inheritance to ensure that the parent class is properly initialized or to extend its behavior without explicitly naming the parent class.\n",
        "\n",
        "21. **What is the significance of the `__del__` method in Python?**\n",
        "    \n",
        "    **Answer:** The `__del__` method is a destructor called when an object is about to be destroyed. It can be used to perform cleanup actions such as closing files or releasing resources. However, its use is generally discouraged due to unpredictable behavior in garbage-collected environments.\n",
        "\n",
        "22. **What is the difference between `@staticmethod` and `@classmethod` in Python?**\n",
        "    \n",
        "    **Answer:** A `@staticmethod` does not take an implicit first parameter (neither `self` nor `cls`) and acts like a normal function defined within a class’s namespace. A `@classmethod` takes the class itself as the first parameter (usually called `cls`) and can access or modify class state.\n",
        "\n",
        "23. **How does polymorphism work in Python with inheritance?**\n",
        "    \n",
        "    **Answer:** Polymorphism in Python is typically achieved through method overriding in an inheritance hierarchy. Different subclasses can implement their own version of the same method, allowing a single interface to invoke behavior that is specific to the type of the object.\n",
        "\n",
        "24. **What is method chaining in Python OOP?**\n",
        "    \n",
        "    **Answer:** Method chaining is a technique where multiple methods are called on the same object consecutively. This is achieved by having each method return the object itself (`self`), allowing the next method to be called inline.\n",
        "\n",
        "25. **What is the purpose of the `__call__` method in Python?**\n",
        "    \n",
        "    **Answer:** The `__call__` method allows an instance of a class to be called as if it were a function. When defined, calling the object (e.g., `obj()`) automatically invokes the `__call__` method."
      ]
    },
    {
      "cell_type": "markdown",
      "id": "3c2e2b2f-5e46-4bf2-a24b-107d2fc9b7aa",
      "metadata": {
        "id": "3c2e2b2f-5e46-4bf2-a24b-107d2fc9b7aa"
      },
      "source": [
        "## Practical Questions"
      ]
    },
    {
      "cell_type": "code",
      "execution_count": 37,
      "id": "fba516a6-8238-4d20-9d47-4a1b9e42b1b8",
      "metadata": {
        "colab": {
          "base_uri": "https://localhost:8080/"
        },
        "id": "fba516a6-8238-4d20-9d47-4a1b9e42b1b8",
        "outputId": "f68105e5-a1ee-42f1-e847-db34a2985377"
      },
      "outputs": [
        {
          "output_type": "stream",
          "name": "stdout",
          "text": [
            "Some generic animal sound\n",
            "Bark!\n"
          ]
        }
      ],
      "source": [
        "# 1. Create a parent class Animal with a method speak() that prints a generic message.\n",
        "#    Create a child class Dog that overrides speak() to print \"Bark!\".\n",
        "class Animal:\n",
        "    def speak(self):\n",
        "        print(\"Some generic animal sound\")\n",
        "class Dog(Animal):\n",
        "    def speak(self):\n",
        "        print(\"Bark!\")\n",
        "generic_animal = Animal()\n",
        "generic_animal.speak()\n",
        "\n",
        "dog = Dog()\n",
        "dog.speak()"
      ]
    },
    {
      "cell_type": "code",
      "execution_count": 38,
      "id": "4a0b78da-315a-4281-ae5e-8b98f49a6c66",
      "metadata": {
        "colab": {
          "base_uri": "https://localhost:8080/"
        },
        "id": "4a0b78da-315a-4281-ae5e-8b98f49a6c66",
        "outputId": "07fefc67-30dc-42cd-a513-ee29f3f33788"
      },
      "outputs": [
        {
          "output_type": "stream",
          "name": "stdout",
          "text": [
            "Circle area: 78.54\n",
            "Rectangle area: 24\n"
          ]
        }
      ],
      "source": [
        "# 2. Create an abstract class Shape with a method area().\n",
        "#    Derive classes Circle and Rectangle from it and implement the area() method.\n",
        "from abc import ABC, abstractmethod\n",
        "class Shape(ABC):\n",
        "    @abstractmethod\n",
        "    def area(self):\n",
        "        pass\n",
        "class Circle(Shape):\n",
        "    def __init__(self, radius):\n",
        "        self.radius = radius\n",
        "    def area(self):\n",
        "        return 3.1416 * self.radius * self.radius\n",
        "class Rectangle(Shape):\n",
        "    def __init__(self, width, height):\n",
        "        self.width = width\n",
        "        self.height = height\n",
        "    def area(self):\n",
        "        return self.width * self.height\n",
        "circle = Circle(5)\n",
        "rectangle = Rectangle(4, 6)\n",
        "print(\"Circle area:\", circle.area())\n",
        "print(\"Rectangle area:\", rectangle.area())"
      ]
    },
    {
      "cell_type": "code",
      "execution_count": 39,
      "id": "d5a1b5f3-a4a2-4287-a204-33f9a2dc30a5",
      "metadata": {
        "colab": {
          "base_uri": "https://localhost:8080/"
        },
        "id": "d5a1b5f3-a4a2-4287-a204-33f9a2dc30a5",
        "outputId": "8c8db4eb-d937-4699-e023-a3f991edb348"
      },
      "outputs": [
        {
          "output_type": "stream",
          "name": "stdout",
          "text": [
            "Car Tesla 100 kWh\n"
          ]
        }
      ],
      "source": [
        "# 3. Implement a multi-level inheritance scenario where a class Vehicle has an attribute type.\n",
        "#    Derive a class Car and further derive a class ElectricCar that adds a battery attribute.\n",
        "class Vehicle:\n",
        "    def __init__(self, vehicle_type):\n",
        "        self.vehicle_type = vehicle_type\n",
        "class Car(Vehicle):\n",
        "    def __init__(self, vehicle_type, brand):\n",
        "        super().__init__(vehicle_type)\n",
        "        self.brand = brand\n",
        "class ElectricCar(Car):\n",
        "    def __init__(self, vehicle_type, brand, battery):\n",
        "        super().__init__(vehicle_type, brand)\n",
        "        self.battery = battery\n",
        "tesla = ElectricCar(\"Car\", \"Tesla\", \"100 kWh\")\n",
        "print(tesla.vehicle_type, tesla.brand, tesla.battery)"
      ]
    },
    {
      "cell_type": "code",
      "execution_count": 40,
      "id": "1bfc02fa-3daf-4eba-9330-5eac6b863c6d",
      "metadata": {
        "colab": {
          "base_uri": "https://localhost:8080/"
        },
        "id": "1bfc02fa-3daf-4eba-9330-5eac6b863c6d",
        "outputId": "b3879815-0f69-4cba-d3c8-22cb2480e50d"
      },
      "outputs": [
        {
          "output_type": "stream",
          "name": "stdout",
          "text": [
            "Sparrow is flying\n",
            "Penguins can't fly\n"
          ]
        }
      ],
      "source": [
        "# 4. Demonstrate polymorphism by creating a base class Bird with a method fly().\n",
        "#    Create two derived classes Sparrow and Penguin that override the fly() method.\n",
        "class Bird:\n",
        "    def fly(self):\n",
        "        print(\"Flying in the sky\")\n",
        "class Sparrow(Bird):\n",
        "    def fly(self):\n",
        "        print(\"Sparrow is flying\")\n",
        "class Penguin(Bird):\n",
        "    def fly(self):\n",
        "        print(\"Penguins can't fly\")\n",
        "birds = [Sparrow(), Penguin()]\n",
        "for bird in birds:\n",
        "    bird.fly()"
      ]
    },
    {
      "cell_type": "code",
      "execution_count": 41,
      "id": "85ed0440-ece5-4dbb-8358-47f5d45d5dff",
      "metadata": {
        "colab": {
          "base_uri": "https://localhost:8080/"
        },
        "id": "85ed0440-ece5-4dbb-8358-47f5d45d5dff",
        "outputId": "538a8297-90d4-434c-b13e-bb2d0d69b462"
      },
      "outputs": [
        {
          "output_type": "stream",
          "name": "stdout",
          "text": [
            "Deposited: 50\n",
            "Withdrew: 30\n",
            "Current Balance: 120\n"
          ]
        }
      ],
      "source": [
        "# 5. Write a program to demonstrate encapsulation by creating a class BankAccount with private attributes\n",
        "#    balance and methods to deposit, withdraw, and check balance.\n",
        "class BankAccount:\n",
        "    def __init__(self, initial_balance=0):\n",
        "        self.__balance = initial_balance\n",
        "    def deposit(self, amount):\n",
        "        if amount > 0:\n",
        "            self.__balance += amount\n",
        "            print(f\"Deposited: {amount}\")\n",
        "        else:\n",
        "            print(\"Deposit amount must be positive\")\n",
        "    def withdraw(self, amount):\n",
        "        if 0 < amount <= self.__balance:\n",
        "            self.__balance -= amount\n",
        "            print(f\"Withdrew: {amount}\")\n",
        "        else:\n",
        "            print(\"Insufficient funds or invalid amount\")\n",
        "    def get_balance(self):\n",
        "        return self.__balance\n",
        "account = BankAccount(100)\n",
        "account.deposit(50)\n",
        "account.withdraw(30)\n",
        "print(\"Current Balance:\", account.get_balance())"
      ]
    },
    {
      "cell_type": "code",
      "execution_count": 42,
      "id": "aadef576-6bb9-4900-9517-c99f97e9a740",
      "metadata": {
        "colab": {
          "base_uri": "https://localhost:8080/"
        },
        "id": "aadef576-6bb9-4900-9517-c99f97e9a740",
        "outputId": "90a16bb5-7746-4df1-b3d3-c73a5bfbe75e"
      },
      "outputs": [
        {
          "output_type": "stream",
          "name": "stdout",
          "text": [
            "Strumming the guitar\n",
            "Playing the piano\n"
          ]
        }
      ],
      "source": [
        "# 6. Demonstrate runtime polymorphism using a method play() in a base class Instrument.\n",
        "#    Derive classes Guitar and Piano that implement their own version of play().\n",
        "class Instrument:\n",
        "    def play(self):\n",
        "        print(\"Playing an instrument\")\n",
        "class Guitar(Instrument):\n",
        "    def play(self):\n",
        "        print(\"Strumming the guitar\")\n",
        "class Piano(Instrument):\n",
        "    def play(self):\n",
        "        print(\"Playing the piano\")\n",
        "instruments = [Guitar(), Piano()]\n",
        "for instrument in instruments:\n",
        "    instrument.play()"
      ]
    },
    {
      "cell_type": "code",
      "execution_count": 43,
      "id": "a55b95a9-8810-4d6b-8f82-1e2880f68a9d",
      "metadata": {
        "colab": {
          "base_uri": "https://localhost:8080/"
        },
        "id": "a55b95a9-8810-4d6b-8f82-1e2880f68a9d",
        "outputId": "aee1972c-817d-42ea-e23a-4b079e3b1f23"
      },
      "outputs": [
        {
          "output_type": "stream",
          "name": "stdout",
          "text": [
            "Add: 8\n",
            "Subtract: 6\n"
          ]
        }
      ],
      "source": [
        "# 7. Create a class MathOperations with a class method add_numbers() to add two numbers\n",
        "#    and a static method subtract_numbers() to subtract two numbers.\n",
        "class MathOperations:\n",
        "    @classmethod\n",
        "    def add_numbers(cls, a, b):\n",
        "        return a + b\n",
        "    @staticmethod\n",
        "    def subtract_numbers(a, b):\n",
        "        return a - b\n",
        "print(\"Add:\", MathOperations.add_numbers(5, 3))\n",
        "print(\"Subtract:\", MathOperations.subtract_numbers(10, 4))"
      ]
    },
    {
      "cell_type": "code",
      "execution_count": 44,
      "id": "ddfef2c1-7480-43d8-89f9-4f82ef62b2d1",
      "metadata": {
        "colab": {
          "base_uri": "https://localhost:8080/"
        },
        "id": "ddfef2c1-7480-43d8-89f9-4f82ef62b2d1",
        "outputId": "816159d8-ecd7-4a17-e373-0311037aaf41"
      },
      "outputs": [
        {
          "output_type": "stream",
          "name": "stdout",
          "text": [
            "Total persons: 2\n"
          ]
        }
      ],
      "source": [
        "# 8. Implement a class Person with a class method to count the total number of persons created.\n",
        "class Person:\n",
        "    count = 0\n",
        "    def __init__(self, name):\n",
        "        self.name = name\n",
        "        Person.count += 1\n",
        "    @classmethod\n",
        "    def total_persons(cls):\n",
        "        return cls.count\n",
        "p1 = Person(\"Alice\")\n",
        "p2 = Person(\"Bob\")\n",
        "print(\"Total persons:\", Person.total_persons())"
      ]
    },
    {
      "cell_type": "code",
      "execution_count": 45,
      "id": "2efd868e-c758-41bf-8cc7-79a84e96e7a8",
      "metadata": {
        "colab": {
          "base_uri": "https://localhost:8080/"
        },
        "id": "2efd868e-c758-41bf-8cc7-79a84e96e7a8",
        "outputId": "f35079b6-f2fc-4389-c9b9-bdf4852ccf57"
      },
      "outputs": [
        {
          "output_type": "stream",
          "name": "stdout",
          "text": [
            "3/4\n"
          ]
        }
      ],
      "source": [
        "# 9. Write a class Fraction with attributes numerator and denominator.\n",
        "#    Override the __str__ method to display the fraction as \"numerator/denominator\".\n",
        "class Fraction:\n",
        "    def __init__(self, numerator, denominator):\n",
        "        self.numerator = numerator\n",
        "        self.denominator = denominator\n",
        "    def __str__(self):\n",
        "        return f\"{self.numerator}/{self.denominator}\"\n",
        "frac = Fraction(3, 4)\n",
        "print(frac)"
      ]
    },
    {
      "cell_type": "code",
      "execution_count": 46,
      "id": "4c726d32-a0d3-46d5-8e2b-9302ef95f6cf",
      "metadata": {
        "colab": {
          "base_uri": "https://localhost:8080/"
        },
        "id": "4c726d32-a0d3-46d5-8e2b-9302ef95f6cf",
        "outputId": "440372dd-45e2-4dd1-d74f-a2f5d68d7fc6"
      },
      "outputs": [
        {
          "output_type": "stream",
          "name": "stdout",
          "text": [
            "Vector(7, 10)\n"
          ]
        }
      ],
      "source": [
        "# 10. Demonstrate operator overloading by creating a class Vector and overriding the add method to add two vectors.\n",
        "class Vector:\n",
        "    def __init__(self, x, y):\n",
        "        self.x = x\n",
        "        self.y = y\n",
        "    def __add__(self, other):\n",
        "        return Vector(self.x + other.x, self.y + other.y)\n",
        "    def __str__(self):\n",
        "        return f\"Vector({self.x}, {self.y})\"\n",
        "v1 = Vector(2, 3)\n",
        "v2 = Vector(5, 7)\n",
        "v3 = v1 + v2\n",
        "print(v3)"
      ]
    },
    {
      "cell_type": "code",
      "execution_count": 47,
      "id": "e2371a0a-705c-4b85-9a52-97f357117cbd",
      "metadata": {
        "colab": {
          "base_uri": "https://localhost:8080/"
        },
        "id": "e2371a0a-705c-4b85-9a52-97f357117cbd",
        "outputId": "d6679cc2-dd9d-414d-d7ed-917b94527c77"
      },
      "outputs": [
        {
          "output_type": "stream",
          "name": "stdout",
          "text": [
            "Hello, my name is Azhar and I am 21 years old.\n"
          ]
        }
      ],
      "source": [
        "# 11. Create a class Person with attributes name and age.\n",
        "#     Add a method greet() that prints \"Hello, my name is {name} and I am {age} years old.\".\n",
        "class PersonGreet:\n",
        "    def __init__(self, name, age):\n",
        "        self.name = name\n",
        "        self.age = age\n",
        "    def greet(self):\n",
        "        print(f\"Hello, my name is {self.name} and I am {self.age} years old.\")\n",
        "person = PersonGreet(\"Azhar\", 21)\n",
        "person.greet()"
      ]
    },
    {
      "cell_type": "code",
      "execution_count": 48,
      "id": "a102f355-1bdf-475f-bd7d-88a42d1e0d71",
      "metadata": {
        "colab": {
          "base_uri": "https://localhost:8080/"
        },
        "id": "a102f355-1bdf-475f-bd7d-88a42d1e0d71",
        "outputId": "6f6dbdfd-55b6-43f2-b5c5-07166b234edf"
      },
      "outputs": [
        {
          "output_type": "stream",
          "name": "stdout",
          "text": [
            "Average Grade: 85.0\n"
          ]
        }
      ],
      "source": [
        "# 12. Implement a class Student with attributes name and grades.\n",
        "#     Create a method average_grade() to compute the average of the grades.\n",
        "class Student:\n",
        "    def __init__(self, name, grades):\n",
        "        self.name = name\n",
        "        self.grades = grades\n",
        "    def average_grade(self):\n",
        "        return sum(self.grades) / len(self.grades) if self.grades else 0\n",
        "student = Student(\"Daisy\", [80, 90, 85])\n",
        "print(\"Average Grade:\", student.average_grade())"
      ]
    },
    {
      "cell_type": "code",
      "execution_count": 49,
      "id": "c0fc5e3b-4af1-455c-9b2e-248ef798cfb4",
      "metadata": {
        "colab": {
          "base_uri": "https://localhost:8080/"
        },
        "id": "c0fc5e3b-4af1-455c-9b2e-248ef798cfb4",
        "outputId": "7fab04a0-59df-4986-ba19-5cb752118dc9"
      },
      "outputs": [
        {
          "output_type": "stream",
          "name": "stdout",
          "text": [
            "Area: 50\n"
          ]
        }
      ],
      "source": [
        "# 13. Create a class Rectangle with methods set_dimensions() to set the dimensions and area() to calculate the area.\n",
        "class Rectangle:\n",
        "    def __init__(self):\n",
        "        self.width = 0\n",
        "        self.height = 0\n",
        "    def set_dimensions(self, width, height):\n",
        "        self.width = width\n",
        "        self.height = height\n",
        "    def area(self):\n",
        "        return self.width * self.height\n",
        "rect = Rectangle()\n",
        "rect.set_dimensions(5, 10)\n",
        "print(\"Area:\", rect.area())"
      ]
    },
    {
      "cell_type": "code",
      "execution_count": 50,
      "id": "d6015b85-ff6f-4b24-8c14-dc7f8f0b96e6",
      "metadata": {
        "colab": {
          "base_uri": "https://localhost:8080/"
        },
        "id": "d6015b85-ff6f-4b24-8c14-dc7f8f0b96e6",
        "outputId": "ebd46014-8253-411b-bd82-f8fed3037c9b"
      },
      "outputs": [
        {
          "output_type": "stream",
          "name": "stdout",
          "text": [
            "Employee Salary: 800\n",
            "Manager Salary: 900\n"
          ]
        }
      ],
      "source": [
        "# 14. Create a class Employee with a method calculate_salary() that computes the salary based on hours worked and hourly rate.\n",
        "#     Create a derived class Manager that adds a bonus to the salary.\n",
        "class Employee:\n",
        "    def __init__(self, hours_worked, hourly_rate):\n",
        "        self.hours_worked = hours_worked\n",
        "        self.hourly_rate = hourly_rate\n",
        "    def calculate_salary(self):\n",
        "        return self.hours_worked * self.hourly_rate\n",
        "class Manager(Employee):\n",
        "    def __init__(self, hours_worked, hourly_rate, bonus):\n",
        "        super().__init__(hours_worked, hourly_rate)\n",
        "        self.bonus = bonus\n",
        "    def calculate_salary(self):\n",
        "        base_salary = super().calculate_salary()\n",
        "        return base_salary + self.bonus\n",
        "emp = Employee(40, 20)\n",
        "mgr = Manager(40, 20, 100)\n",
        "print(\"Employee Salary:\", emp.calculate_salary())\n",
        "print(\"Manager Salary:\", mgr.calculate_salary())"
      ]
    },
    {
      "cell_type": "code",
      "execution_count": 51,
      "id": "54a107cc-634b-4f01-8a80-4a76ad4a0cb1",
      "metadata": {
        "colab": {
          "base_uri": "https://localhost:8080/"
        },
        "id": "54a107cc-634b-4f01-8a80-4a76ad4a0cb1",
        "outputId": "a95bd46b-1817-4894-c041-276aa22bb1bd"
      },
      "outputs": [
        {
          "output_type": "stream",
          "name": "stdout",
          "text": [
            "Total Price: 3600\n"
          ]
        }
      ],
      "source": [
        "# 15. Create a class Product with attributes name, price, and quantity.\n",
        "#     Implement a method total_price() that calculates the total price of the product.\n",
        "class Product:\n",
        "    def __init__(self, name, price, quantity):\n",
        "        self.name = name\n",
        "        self.price = price\n",
        "        self.quantity = quantity\n",
        "    def total_price(self):\n",
        "        return self.price * self.quantity\n",
        "product = Product(\"Laptop\", 1200, 3)\n",
        "print(\"Total Price:\", product.total_price())"
      ]
    },
    {
      "cell_type": "code",
      "execution_count": 52,
      "id": "2dd9a5ba-9299-48e9-8a06-845237e1b4f1",
      "metadata": {
        "colab": {
          "base_uri": "https://localhost:8080/"
        },
        "id": "2dd9a5ba-9299-48e9-8a06-845237e1b4f1",
        "outputId": "0e202244-c6c3-40ee-e598-343fa57c7d40"
      },
      "outputs": [
        {
          "output_type": "stream",
          "name": "stdout",
          "text": [
            "Moo\n",
            "Baa\n"
          ]
        }
      ],
      "source": [
        "# 16. Create a class Animal with an abstract method sound().\n",
        "#     Create two derived classes Cow and Sheep that implement the sound() method.\n",
        "from abc import ABC, abstractmethod\n",
        "class AbstractAnimal(ABC):\n",
        "    @abstractmethod\n",
        "    def sound(self):\n",
        "        pass\n",
        "class Cow(AbstractAnimal):\n",
        "    def sound(self):\n",
        "        print(\"Moo\")\n",
        "class Sheep(AbstractAnimal):\n",
        "    def sound(self):\n",
        "        print(\"Baa\")\n",
        "cow = Cow()\n",
        "sheep = Sheep()\n",
        "cow.sound()\n",
        "sheep.sound()"
      ]
    },
    {
      "cell_type": "code",
      "execution_count": 53,
      "id": "da27ecd9-d1aa-44d9-b4b7-9b65a4f9cbf0",
      "metadata": {
        "colab": {
          "base_uri": "https://localhost:8080/"
        },
        "id": "da27ecd9-d1aa-44d9-b4b7-9b65a4f9cbf0",
        "outputId": "cc5abbc5-9dcf-4706-ac5c-5648a4ddb552"
      },
      "outputs": [
        {
          "output_type": "stream",
          "name": "stdout",
          "text": [
            "'1984' by George Orwell (1949)\n"
          ]
        }
      ],
      "source": [
        "# 17. Create a class Book with attributes title, author, and year_published.\n",
        "#     Add a method get_book_info() that returns a formatted string with the book's details.\n",
        "class Book:\n",
        "    def __init__(self, title, author, year_published):\n",
        "        self.title = title\n",
        "        self.author = author\n",
        "        self.year_published = year_published\n",
        "    def get_book_info(self):\n",
        "        return f\"'{self.title}' by {self.author} ({self.year_published})\"\n",
        "book = Book(\"1984\", \"George Orwell\", 1949)\n",
        "print(book.get_book_info())"
      ]
    },
    {
      "cell_type": "code",
      "execution_count": 54,
      "id": "fedb8e9d-3efc-4f22-8cbd-7ac8ddf21e66",
      "metadata": {
        "colab": {
          "base_uri": "https://localhost:8080/"
        },
        "id": "fedb8e9d-3efc-4f22-8cbd-7ac8ddf21e66",
        "outputId": "4d4e4eca-5cee-4672-c1d9-ee94bffea67b"
      },
      "outputs": [
        {
          "output_type": "stream",
          "name": "stdout",
          "text": [
            "House at 123 Maple St priced at $250000\n",
            "Mansion at 456 Oak Ave priced at $750000 with 10 rooms\n"
          ]
        }
      ],
      "source": [
        "# 18. Create a class House with attributes address and price.\n",
        "#     Create a derived class Mansion that adds an attribute number_of_rooms.\n",
        "class House:\n",
        "    def __init__(self, address, price):\n",
        "        self.address = address\n",
        "        self.price = price\n",
        "    def __str__(self):\n",
        "        return f\"House at {self.address} priced at ${self.price}\"\n",
        "class Mansion(House):\n",
        "    def __init__(self, address, price, number_of_rooms):\n",
        "        super().__init__(address, price)\n",
        "        self.number_of_rooms = number_of_rooms\n",
        "    def __str__(self):\n",
        "        return f\"Mansion at {self.address} priced at ${self.price} with {self.number_of_rooms} rooms\"\n",
        "house = House(\"123 Maple St\", 250000)\n",
        "mansion = Mansion(\"456 Oak Ave\", 750000, 10)\n",
        "print(house)\n",
        "print(mansion)"
      ]
    }
  ],
  "metadata": {
    "kernelspec": {
      "display_name": "Python 3",
      "language": "python",
      "name": "python3"
    },
    "language_info": {
      "name": "python",
      "version": "3.x"
    },
    "colab": {
      "provenance": []
    }
  },
  "nbformat": 4,
  "nbformat_minor": 5
}